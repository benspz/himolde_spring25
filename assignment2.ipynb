{
 "cells": [
  {
   "cell_type": "markdown",
   "metadata": {},
   "source": [
    "<h1>Assignment 2</h1>\n",
    "<p>Written by Benjamin Espeseth</p>"
   ]
  },
  {
   "cell_type": "markdown",
   "metadata": {},
   "source": [
    "<h2>Class Diagram</h2>\n",
    "\n",
    "![alt text](assignment2_class_diagram-1.png)"
   ]
  },
  {
   "cell_type": "code",
   "execution_count": 17,
   "metadata": {},
   "outputs": [],
   "source": [
    "# Importing abstract class module\n",
    "from abc import ABC, abstractmethod"
   ]
  },
  {
   "cell_type": "markdown",
   "metadata": {},
   "source": [
    "<h3>Relationships</h3>\n",
    "    <p>Bank\n",
    "        <ul>\n",
    "            <li>Has multiple Customers (1 -> *, aggregation)\n",
    "            <li>Has multiple ATMs (1 -> *, aggregation)\n",
    "        </ul>\n",
    "    </p>\n",
    "        <p>ATM\n",
    "        <ul>\n",
    "            <li>Linked to a Bank (association)\n",
    "            <li>Processes multiple ATM Transactions (1 -> *, aggregation)\n",
    "        </ul>\n",
    "    </p>\n",
    "    <p>Customer\n",
    "        <ul>\n",
    "            <li>Owns one or more Accounts (1 -> 1..*, aggregation)\n",
    "            <li>Uses 0 or more ATMs for cash withdrawal (1 -> *, dependency)\n",
    "        </ul>\n",
    "    </p>\n",
    "    <p>ATM Transactions\n",
    "        <ul>\n",
    "            <li>Depends on ATM to perform transaction (1 -> *, dependency)\n",
    "            <li>Each transaction is associated with an account (1 -> *, association)\n",
    "        </ul>\n",
    "    </p>\n",
    "    <p>Accounts\n",
    "        <ul>\n",
    "            <li> Abstract class that extends to Current- and Savings Accounts\n",
    "        </ul>\n",
    "    </p>\n",
    "    <p>Current Account\n",
    "        <ul>\n",
    "            <li> Inherits from Accounts.\n",
    "        </ul>\n",
    "    </p>\n",
    "    <p>Savings Account\n",
    "        <ul>\n",
    "            <li> Inherits from Accounts.\n",
    "        </ul>\n",
    "    </p>"
   ]
  },
  {
   "cell_type": "markdown",
   "metadata": {},
   "source": [
    "<h3>Bank</h3>"
   ]
  },
  {
   "cell_type": "code",
   "execution_count": null,
   "metadata": {},
   "outputs": [],
   "source": [
    "class Bank:\n",
    "    def __init__(self, name):\n",
    "        self._name = name\n",
    "        self._customers = []\n",
    "        self._atms = []\n",
    "    \n",
    "    def add_customer(self, customer):\n",
    "        self.customers.append(customer)\n",
    "    \n",
    "    def add_atm(self, atm):\n",
    "        self.atms.append(atm)"
   ]
  },
  {
   "cell_type": "markdown",
   "metadata": {},
   "source": [
    "<h3>ATM</h3>"
   ]
  },
  {
   "cell_type": "code",
   "execution_count": null,
   "metadata": {},
   "outputs": [],
   "source": [
    "class ATM:\n",
    "    def __init__(self, atm_id, location, bank):\n",
    "        self._atm_id = atm_id\n",
    "        self._location = location\n",
    "        self._bank = bank\n",
    "\n",
    "    def get_location(self):\n",
    "        return self.location\n",
    "    \n",
    "    def set_location(self, location):\n",
    "        self.location = location\n",
    "        print(f\"ATM location changed to {location}\")\n",
    "\n",
    "    def check_balance(self, customer_id):\n",
    "        print(f\"Balance for customer {customer_id} is $1000\")\n",
    "\n",
    "    def withdraw(self, customer_id, amount):\n",
    "        print(f\"Withdrew ${amount} from customer {customer_id}\")\n",
    "    \n",
    "    def authenticate_customer(self, customer_id):\n",
    "        print(f\"Customer {customer_id} authenticated\")"
   ]
  },
  {
   "cell_type": "markdown",
   "metadata": {},
   "source": [
    "<h3>Customer</h3>"
   ]
  },
  {
   "cell_type": "code",
   "execution_count": null,
   "metadata": {},
   "outputs": [],
   "source": [
    "class Customer:\n",
    "    def __init__(self, customer_id, name):\n",
    "        self._customer_id = customer_id\n",
    "        self._name = name\n",
    "        self._accounts = []\n",
    "    \n",
    "    def add_account(self, account):\n",
    "        self.accounts.append(account)\n",
    "\n",
    "    def get_accounts(self):\n",
    "        return self.accounts"
   ]
  },
  {
   "cell_type": "markdown",
   "metadata": {},
   "source": [
    "<h3>ATM Transaction</h3>"
   ]
  },
  {
   "cell_type": "code",
   "execution_count": null,
   "metadata": {},
   "outputs": [],
   "source": [
    "class ATMTransaction:\n",
    "    def __init__(self, transaction_id, amount, date, time):\n",
    "        self._transaction_id = transaction_id\n",
    "        self._amount = amount\n",
    "        self._date = date\n",
    "        self._time = time"
   ]
  },
  {
   "cell_type": "markdown",
   "metadata": {},
   "source": [
    "<h3><i>Account</i></h3>"
   ]
  },
  {
   "cell_type": "code",
   "execution_count": null,
   "metadata": {},
   "outputs": [],
   "source": [
    "class Account(ABC):             # Abstract class\n",
    "    def __init__(self, account_number, balance):\n",
    "        self._account_number = account_number\n",
    "        self._balance = balance\n",
    "    \n",
    "    @abstractmethod             # Abstract method to be implemented by child classes\n",
    "    def deposit(self, amount):\n",
    "        pass\n",
    "    \n",
    "    @abstractmethod             # Abstract method to be implemented by child classes\n",
    "    def withdraw(self, amount):\n",
    "        pass\n",
    "    \n",
    "    def get_balance(self):      # Does not need to be implemented by child classes\n",
    "        return self.balance"
   ]
  },
  {
   "cell_type": "markdown",
   "metadata": {},
   "source": [
    "<h3>Current Account</h3>"
   ]
  },
  {
   "cell_type": "code",
   "execution_count": null,
   "metadata": {},
   "outputs": [],
   "source": [
    "class CurrentAccount(Account):\n",
    "    def __init__(self, account_number, balance, overdraft_limit):\n",
    "        super().__init__(account_number, balance)   # Calls the parent class constructor to make parent attributes available\n",
    "        self._overdraft_limit = overdraft_limit\n",
    "    \n",
    "    def deposit(self, amount):\n",
    "        print(f\"Deposited ${amount} into account {self.account_number}\")\n",
    "    \n",
    "    def withdraw(self, amount):\n",
    "        print(f\"Withdrew ${amount} from account {self.account_number}\")"
   ]
  },
  {
   "cell_type": "markdown",
   "metadata": {},
   "source": [
    "<h3>Savings Account</h3>"
   ]
  },
  {
   "cell_type": "code",
   "execution_count": null,
   "metadata": {},
   "outputs": [],
   "source": [
    "class SavingsAccount(Account):\n",
    "    def __init__(self, account_number, balance, withdrawal_limit):\n",
    "        super().__init__(account_number, balance)    # Calls the parent class constructor to make parent attributes available\n",
    "        self._withdrawal_limit = withdrawal_limit\n",
    "    \n",
    "    def deposit(self, amount):\n",
    "        print(f\"Deposited ${amount} into account {self.account_number}\")\n",
    "    \n",
    "    def withdraw(self, amount):\n",
    "        print(f\"Withdrew ${amount} from account {self.account_number}\")\n",
    "        self._withdrawal_limit -= 1\n"
   ]
  }
 ],
 "metadata": {
  "kernelspec": {
   "display_name": ".venv",
   "language": "python",
   "name": "python3"
  },
  "language_info": {
   "codemirror_mode": {
    "name": "ipython",
    "version": 3
   },
   "file_extension": ".py",
   "mimetype": "text/x-python",
   "name": "python",
   "nbconvert_exporter": "python",
   "pygments_lexer": "ipython3",
   "version": "3.12.8"
  }
 },
 "nbformat": 4,
 "nbformat_minor": 2
}
